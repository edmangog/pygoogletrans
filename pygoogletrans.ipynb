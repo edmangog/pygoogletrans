{
  "nbformat": 4,
  "nbformat_minor": 0,
  "metadata": {
    "colab": {
      "name": "pygoogletrans.ipynb",
      "provenance": [],
      "collapsed_sections": [],
      "authorship_tag": "ABX9TyORyQoXzsEOibwUAOWVsO0E",
      "include_colab_link": true
    },
    "kernelspec": {
      "name": "python3",
      "display_name": "Python 3"
    },
    "language_info": {
      "name": "python"
    }
  },
  "cells": [
    {
      "cell_type": "markdown",
      "metadata": {
        "id": "view-in-github",
        "colab_type": "text"
      },
      "source": [
        "<a href=\"https://colab.research.google.com/github/edmangog/pygoogletrans/blob/master/pygoogletrans.ipynb\" target=\"_parent\"><img src=\"https://colab.research.google.com/assets/colab-badge.svg\" alt=\"Open In Colab\"/></a>"
      ]
    },
    {
      "cell_type": "markdown",
      "metadata": {
        "id": "ZepFPFLqduTk"
      },
      "source": [
        "# Import libraries"
      ]
    },
    {
      "cell_type": "code",
      "metadata": {
        "id": "PotTeZuVKl2U"
      },
      "source": [
        "pip install googletrans==4.0.0rc1"
      ],
      "execution_count": null,
      "outputs": []
    },
    {
      "cell_type": "code",
      "metadata": {
        "id": "FwaIGgNoK_t8"
      },
      "source": [
        "pip install fasttext"
      ],
      "execution_count": null,
      "outputs": []
    },
    {
      "cell_type": "code",
      "metadata": {
        "id": "FiJO2ykjK5EH"
      },
      "source": [
        "from googletrans import Translator\n",
        "import pandas as pd\n",
        "import fasttext\n",
        "\n",
        "translator = Translator(raise_exception=True)"
      ],
      "execution_count": null,
      "outputs": []
    },
    {
      "cell_type": "code",
      "metadata": {
        "id": "96urJqQyLsZz"
      },
      "source": [
        "!wget https://dl.fbaipublicfiles.com/fasttext/supervised-models/lid.176.bin\n",
        "!gunzip cc.en.300.bin.gz\n",
        "model = fasttext.load_model('lid.176.bin')"
      ],
      "execution_count": null,
      "outputs": []
    },
    {
      "cell_type": "markdown",
      "metadata": {
        "id": "YFm-bKbpeAvV"
      },
      "source": [
        "# Main code"
      ]
    },
    {
      "cell_type": "code",
      "metadata": {
        "id": "08rYCxwiMAr3"
      },
      "source": [
        "df = pd.read_csv('sample.csv', header=0, index_col=0, encoding='utf-8-sig')"
      ],
      "execution_count": null,
      "outputs": []
    },
    {
      "cell_type": "markdown",
      "metadata": {
        "id": "PsGAW9YFeMeE"
      },
      "source": [
        "Create lookup table"
      ]
    },
    {
      "cell_type": "code",
      "metadata": {
        "id": "zQrReBU0OZug"
      },
      "source": [
        "dict = {\n",
        "  'text':df.drop_duplicates(subset=['text'])['text'],\n",
        "  'first_lang':[],\n",
        "  'first_lang_score':[],\n",
        "  'second_lang':[],\n",
        "  'second_lang_score':[],\n",
        "  'translated':[]\n",
        "}"
      ],
      "execution_count": null,
      "outputs": []
    },
    {
      "cell_type": "markdown",
      "metadata": {
        "id": "jS-o-tKkeU5o"
      },
      "source": [
        "Language detection and translation"
      ]
    },
    {
      "cell_type": "code",
      "metadata": {
        "id": "SuZHqJ45MBky"
      },
      "source": [
        "import tqdm\n",
        "progress = tqdm.tqdm(total=len(dict['text']))\n",
        "\n",
        "for tweet in dict['text']:\n",
        "  result = model.predict(tweet,k=2)\n",
        "  first_lang = result[0][0]\n",
        "  first_lang_score = result[1][0]\n",
        "  second_lang = result[0][1]\n",
        "  second_lang_score = result[1][1]\n",
        "\n",
        "  if first_lang != '__label__en' and first_lang_score < 66:\n",
        "    dict['translated'].append(translator.translate(tweet, dest='en').text)\n",
        "  else:\n",
        "    dict['translated'].append('null')\n",
        "\n",
        "  dict['first_lang'].append(first_lang)\n",
        "  dict['first_lang_score'].append(first_lang_score)\n",
        "  dict['second_lang'].append(second_lang)\n",
        "  dict['second_lang_score'].append(second_lang_score)\n",
        "\n",
        "  progress.update(1)\n",
        "\n"
      ],
      "execution_count": null,
      "outputs": []
    },
    {
      "cell_type": "markdown",
      "metadata": {
        "id": "es7a_6uzedys"
      },
      "source": [
        "Lookup and export"
      ]
    },
    {
      "cell_type": "code",
      "metadata": {
        "id": "yC8OxeJP-GqM"
      },
      "source": [
        "lookup_df = pd.DataFrame.from_dict(dict)\n",
        "\n",
        "# df.merge(lookup_df, on='text', how='left')\n",
        "df2 = df.merge(lookup_df, on='text', how='left')\n",
        "df2.to_csv('result.csv', encoding='utf-8-sig')"
      ],
      "execution_count": null,
      "outputs": []
    }
  ]
}